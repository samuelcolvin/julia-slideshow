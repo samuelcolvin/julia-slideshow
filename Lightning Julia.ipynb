{
 "metadata": {
  "celltoolbar": "Slideshow",
  "language": "Julia",
  "name": "",
  "signature": "sha256:42a73aece8b66eadf8670d134cda84e7eb0a165a870ddc73149f34a9b552030e"
 },
 "nbformat": 3,
 "nbformat_minor": 0,
 "worksheets": [
  {
   "cells": [
    {
     "cell_type": "markdown",
     "metadata": {
      "slideshow": {
       "slide_type": "slide"
      }
     },
     "source": [
      "# <center><img src=\"julia_logo.png\" width=\"250\" alt=\"Julia\"/></center>\n",
      "## <center>Lightning Julia</center>\n",
      "### <center>Samuel Colvin</center>"
     ]
    },
    {
     "cell_type": "markdown",
     "metadata": {
      "slideshow": {
       "slide_type": "slide"
      }
     },
     "source": [
      "### What is Julia?\n",
      "\n",
      "- **Julia is a high-level, high-performance dynamic programming language for technical computing.**\n",
      "\n",
      "- It looks like a cross between **Matlab** and **python**, with types like **c** and macros like **lisp**.\n",
      "\n",
      "- Is GIT compiled using LLVM.\n",
      "\n",
      "- Is free, open source and released under the MIT license (mostly). It's primary developers are academics at MIT."
     ]
    },
    {
     "cell_type": "markdown",
     "metadata": {
      "slideshow": {
       "slide_type": "slide"
      }
     },
     "source": [
      "### So What's the Point?\n",
      "\n",
      "## Julia is Fast. Really Fast!\n",
      "\n",
      "# <center><img src=\"performance.png\" width=\"600\" alt=\"Julia\"/></center>\n",
      "\n",
      "But that's not all:\n",
      "\n",
      "- Package Manager built in.\n",
      "- The shell (REPL) is interactive (eg. like ipython).\n",
      "- Unicode source and support for output in rich multimedia types.\n",
      "- Small but very active and helpful user/developer base."
     ]
    },
    {
     "cell_type": "heading",
     "level": 1,
     "metadata": {
      "slideshow": {
       "slide_type": "slide"
      }
     },
     "source": [
      "Speed"
     ]
    },
    {
     "cell_type": "code",
     "collapsed": false,
     "input": [
      "function fib(n) \n",
      "    if n < 2 \n",
      "        return n\n",
      "    else\n",
      "        return fib(n-1) + fib(n-2)\n",
      "    end\n",
      "end\n",
      "@time fib(36)"
     ],
     "language": "python",
     "metadata": {
      "slideshow": {
       "slide_type": "fragment"
      }
     },
     "outputs": [
      {
       "output_type": "stream",
       "stream": "stdout",
       "text": [
        "elapsed time: 0."
       ]
      },
      {
       "output_type": "stream",
       "stream": "stdout",
       "text": [
        "12423492 seconds (49224 bytes allocated)\n"
       ]
      },
      {
       "metadata": {},
       "output_type": "pyout",
       "prompt_number": 1,
       "text": [
        "14930352"
       ]
      }
     ],
     "prompt_number": 1
    },
    {
     "cell_type": "markdown",
     "metadata": {
      "slideshow": {
       "slide_type": "fragment"
      }
     },
     "source": [
      "### In Python:\n",
      "\n",
      "    from time import time\n",
      "    def fib(n):\n",
      "        if n < 2:\n",
      "            return n\n",
      "        else:\n",
      "            return fib(n-1) + fib(n-2)\n",
      "    start = time()\n",
      "    f=fib(36)\n",
      "    stop = time()\n",
      "    print('time taken: %0.4f' % (stop - start))\n",
      "    print('result:', f)\n",
      "\n",
      "* **python2.7**: 3.6751 (30x slower)\n",
      "* **python3.4**: 4.8916 (40x slower)\n",
      "* **pypy 2.7** : 0.6789 (5.6x slower)"
     ]
    },
    {
     "cell_type": "code",
     "collapsed": false,
     "input": [
      "println(3.6751/0.120)\n",
      "println(4.8916/0.120)\n",
      "println(0.6789/0.120)"
     ],
     "language": "python",
     "metadata": {
      "slideshow": {
       "slide_type": "skip"
      }
     },
     "outputs": [
      {
       "output_type": "stream",
       "stream": "stdout",
       "text": [
        "30"
       ]
      },
      {
       "output_type": "stream",
       "stream": "stdout",
       "text": [
        ".625833333333336\n",
        "40.763333333333335\n",
        "5.6575\n"
       ]
      }
     ],
     "prompt_number": 2
    },
    {
     "cell_type": "markdown",
     "metadata": {
      "slideshow": {
       "slide_type": "slide"
      }
     },
     "source": [
      "# <center>Any Questions?</center>\n",
      "\n",
      "### &nbsp;\n",
      "\n",
      "<center>\n",
      "<img src=\"lisp.jpg\" width=\"600\" alt=\"Lisp vs. Perl\"/>\n",
      "</center>\n",
      "&nbsp;\n",
      "<center>\n",
      "(You can swap **Lisp** for **Julia** and **Perl** for **Python**.)\n",
      "</center>\n",
      "\n",
      "## Acknowledgements\n",
      "\n",
      "**Avik Sengupta** for inspiration on much of the presentation\n",
      "\n",
      "**Stefan, with Jeff Bezanson, Viral B Shah, Alan Edelman and everyone else** for creating Julia "
     ]
    },
    {
     "cell_type": "code",
     "collapsed": false,
     "input": [],
     "language": "python",
     "metadata": {},
     "outputs": [],
     "prompt_number": 3
    }
   ],
   "metadata": {}
  }
 ]
}