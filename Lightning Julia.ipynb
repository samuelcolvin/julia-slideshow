{
 "metadata": {
  "celltoolbar": "Slideshow",
  "language": "Julia",
  "name": "",
  "signature": "sha256:e5fccb75e9bd2623f138ae13ebdb41d2816a153b3e04e55421e9e2e48a78595b"
 },
 "nbformat": 3,
 "nbformat_minor": 0,
 "worksheets": [
  {
   "cells": [
    {
     "cell_type": "markdown",
     "metadata": {
      "slideshow": {
       "slide_type": "slide"
      }
     },
     "source": [
      "# <center><img src=\"julia_logo.png\" width=\"250\" alt=\"Julia\"/></center>\n",
      "## <center>Lightning Julia</center>\n",
      "### <center>Samuel Colvin</center>"
     ]
    },
    {
     "cell_type": "markdown",
     "metadata": {
      "slideshow": {
       "slide_type": "slide"
      }
     },
     "source": [
      "### What is Julia?\n",
      "\n",
      "- **Julia is a high-level, high-performance dynamic programming language for technical computing.**\n",
      "\n",
      "- It looks like a cross between **Matlab** and **python**, with types like **c** and macros like **lisp**.\n",
      "\n",
      "- Is GIT compiled using LLVM.\n",
      "\n",
      "- Is free, open source and released under the MIT license (mostly). It's primary developers are academics at MIT."
     ]
    },
    {
     "cell_type": "markdown",
     "metadata": {
      "slideshow": {
       "slide_type": "slide"
      }
     },
     "source": [
      "### So What's the Point?\n",
      "\n",
      "## Julia is Fast. Really Fast!\n",
      "\n",
      "# <center><img src=\"performance.png\" width=\"600\" alt=\"Julia\"/></center>\n",
      "\n",
      "But that's not all:\n",
      "- Simply maths syntax (`\u03c0r^2`) and matrix syntax (`a = [sin(x) cos(x); tan(x) 1]`)\n",
      "- Batteries included:\n",
      "  - Package manager.\n",
      "  - Support for parallelism.\n",
      "  - The shell (REPL) is interactive (eg. like ipython).\n",
      "- At lot of effort has gone into get Julia to compile easily in Mac, Linux and even Windows.\n",
      "- Unicode source and support for output in rich multimedia types.\n",
      "- Small but very active and helpful user/developer base.\n",
      "- **And this**: IJulia for easy development and presenting results."
     ]
    },
    {
     "cell_type": "markdown",
     "metadata": {
      "slideshow": {
       "slide_type": "slide"
      }
     },
     "source": [
      "### Speed"
     ]
    },
    {
     "cell_type": "code",
     "collapsed": false,
     "input": [
      "function fib(n) \n",
      "    if n < 2 \n",
      "        return n\n",
      "    else\n",
      "        return fib(n-1) + fib(n-2)\n",
      "    end\n",
      "end\n",
      "@time fib(36)"
     ],
     "language": "python",
     "metadata": {
      "slideshow": {
       "slide_type": "fragment"
      }
     },
     "outputs": [
      {
       "output_type": "stream",
       "stream": "stdout",
       "text": [
        "elapsed time: 0."
       ]
      },
      {
       "output_type": "stream",
       "stream": "stdout",
       "text": [
        "12948546 seconds (35224 bytes allocated)\n"
       ]
      },
      {
       "metadata": {},
       "output_type": "pyout",
       "prompt_number": 6,
       "text": [
        "14930352"
       ]
      }
     ],
     "prompt_number": 6
    },
    {
     "cell_type": "markdown",
     "metadata": {
      "slideshow": {
       "slide_type": "fragment"
      }
     },
     "source": [
      "### In Python:\n",
      "\n",
      "    from time import time\n",
      "    def fib(n):\n",
      "        if n < 2:\n",
      "            return n\n",
      "        else:\n",
      "            return fib(n-1) + fib(n-2)\n",
      "    start = time()\n",
      "    f=fib(36)\n",
      "    stop = time()\n",
      "    print('time taken: %0.4f' % (stop - start))\n",
      "    print('result:', f)\n",
      "\n",
      "* **Julia 0.3 latest**: 0.1204 (used in test)\n",
      "* **python2.7**: 3.6751 (30x  slower)\n",
      "* **python3.4**: 4.8916 (40x  slower)\n",
      "* **pypy 2.7**: 0.6789 (5.6x slower)\n",
      "* **cython (no changes)**: 2.3770 (19x  slower)\n",
      "* **cython (type set)**: 1.9122 (16x  slower)"
     ]
    },
    {
     "cell_type": "code",
     "collapsed": false,
     "input": [
      "println(3.6751/0.120)\n",
      "println(4.8916/0.120)\n",
      "println(0.6789/0.120)\n",
      "println(2.3770/0.120)\n",
      "println(1.9122/0.120)"
     ],
     "language": "python",
     "metadata": {
      "slideshow": {
       "slide_type": "skip"
      }
     },
     "outputs": [
      {
       "output_type": "stream",
       "stream": "stdout",
       "text": [
        "30."
       ]
      },
      {
       "output_type": "stream",
       "stream": "stdout",
       "text": [
        "625833333333336\n",
        "40.763333333333335\n",
        "5.6575\n",
        "19.808333333333334\n",
        "15.935\n"
       ]
      }
     ],
     "prompt_number": 7
    },
    {
     "cell_type": "markdown",
     "metadata": {
      "slideshow": {
       "slide_type": "slide"
      }
     },
     "source": [
      "### What's the snag?\n",
      "\n",
      "We have to remember that Julia is still very young.\n",
      "\n",
      "* **Libaries**: nowhere near as many libraries/packages as in Python/R/Matlab.\n",
      "  * **However**:\n",
      "    * Can call Python/R/c easily from Julia.\n",
      "    * Libraries are coming thick and fast.\n",
      "* **IO** still slow:\n",
      "  * CSV and JSON input and output is still slowing than python.\n",
      "  * No MySQL library, ODBC library buggy\n",
      "  * **However**:\n",
      "    * good HDF5 support with custom \"jld\" format for persistence.\n",
      "* **Still a language geek's language**:\n",
      "  * very advanced user base generally asking advanced questions.\n",
      "  * Lack of simple \"dumb\" examples of doing the trival stuff.\n",
      "  * Documentation is good, but not yet up to python standard.\n",
      "  * **However**:\n",
      "    * [Learn X in Y minutes / Julia](http://learnxinyminutes.com/docs/julia/)\n",
      "    * [Julia Manual](http://docs.julialang.org/en/latest/manual/)\n",
      "    * [Julia Standard Libary Docs](http://docs.julialang.org/en/latest/stdlib/)\n",
      "    * &lt;plug&gt;[Julia By Example](http://www.scolvin.com/juliabyexample/) &lt;/plug&gt;"
     ]
    },
    {
     "cell_type": "markdown",
     "metadata": {
      "slideshow": {
       "slide_type": "slide"
      }
     },
     "source": [
      "# <center>Any Questions?</center>\n",
      "\n",
      "### &nbsp;\n",
      "\n",
      "<center>\n",
      "<img src=\"lisp.jpg\" width=\"600\" alt=\"Lisp vs. Perl\"/>\n",
      "</center>\n",
      "&nbsp;\n",
      "<center>\n",
      "(You can swap **Lisp** for **Julia** and **Perl** for **Python**.)\n",
      "</center>\n",
      "\n",
      "## Acknowledgements\n",
      "\n",
      "**Avik Sengupta** for inspiration on much of the presentation\n",
      "\n",
      "**Stefan, with Jeff Bezanson, Viral B Shah, Alan Edelman and everyone else** for creating Julia "
     ]
    },
    {
     "cell_type": "code",
     "collapsed": false,
     "input": [],
     "language": "python",
     "metadata": {},
     "outputs": [],
     "prompt_number": 3
    }
   ],
   "metadata": {}
  }
 ]
}